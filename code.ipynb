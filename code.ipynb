{
 "cells": [
  {
   "cell_type": "code",
   "execution_count": 1,
   "id": "d48eb045",
   "metadata": {},
   "outputs": [],
   "source": [
    "import pandas as pd\n",
    "import numpy as np\n",
    "import seaborn as sns\n",
    "import matplotlib.pyplot as plt\n",
    "import warnings \n",
    "warnings.filterwarnings( \"ignore\")\n",
    "\n",
    "# Preprocessing Required imports\n",
    "from scipy.stats import zscore\n",
    "from sklearn import preprocessing\n",
    "from sklearn.model_selection import train_test_split\n",
    "\n",
    "# Model Imports\n",
    "from sklearn.linear_model import LogisticRegression\n",
    "from sklearn.discriminant_analysis import LinearDiscriminantAnalysis\n",
    "from sklearn.model_selection import GridSearchCV\n",
    "from sklearn.neighbors import KNeighborsClassifier\n",
    "from sklearn.naive_bayes import GaussianNB\n",
    "from sklearn.ensemble import RandomForestClassifier\n",
    "from sklearn.ensemble import AdaBoostClassifier\n",
    "from sklearn.ensemble import BaggingClassifier\n",
    "\n",
    "# Accuracy and Performance Metric Imports\n",
    "from sklearn import metrics\n",
    "from sklearn.metrics import accuracy_score\n",
    "from sklearn.metrics import roc_auc_score,roc_curve,classification_report,confusion_matrix,plot_confusion_matrix"
   ]
  },
  {
   "cell_type": "code",
   "execution_count": 2,
   "id": "e8b03c44",
   "metadata": {
    "collapsed": true
   },
   "outputs": [
    {
     "name": "stdout",
     "output_type": "stream",
     "text": [
      "Requirement already satisfied: pandas-profiling==2.7.1 in c:\\users\\kiit\\anaconda3\\lib\\site-packages (2.7.1)\n",
      "Requirement already satisfied: astropy>=4.0 in c:\\users\\kiit\\anaconda3\\lib\\site-packages (from pandas-profiling==2.7.1) (5.1)\n",
      "Requirement already satisfied: matplotlib>=3.2.0 in c:\\users\\kiit\\anaconda3\\lib\\site-packages (from pandas-profiling==2.7.1) (3.5.2)\n",
      "Requirement already satisfied: confuse>=1.0.0 in c:\\users\\kiit\\anaconda3\\lib\\site-packages (from pandas-profiling==2.7.1) (2.0.0)\n",
      "Requirement already satisfied: joblib in c:\\users\\kiit\\anaconda3\\lib\\site-packages (from pandas-profiling==2.7.1) (1.1.0)\n",
      "Requirement already satisfied: htmlmin>=0.1.12 in c:\\users\\kiit\\anaconda3\\lib\\site-packages (from pandas-profiling==2.7.1) (0.1.12)\n",
      "Requirement already satisfied: visions[type_image_path]==0.4.1 in c:\\users\\kiit\\anaconda3\\lib\\site-packages (from pandas-profiling==2.7.1) (0.4.1)\n",
      "Requirement already satisfied: scipy>=1.4.1 in c:\\users\\kiit\\anaconda3\\lib\\site-packages (from pandas-profiling==2.7.1) (1.9.1)\n",
      "Requirement already satisfied: numpy>=1.16.0 in c:\\users\\kiit\\anaconda3\\lib\\site-packages (from pandas-profiling==2.7.1) (1.21.5)\n",
      "Requirement already satisfied: phik>=0.9.10 in c:\\users\\kiit\\anaconda3\\lib\\site-packages (from pandas-profiling==2.7.1) (0.12.3)\n",
      "Requirement already satisfied: requests>=2.23.0 in c:\\users\\kiit\\anaconda3\\lib\\site-packages (from pandas-profiling==2.7.1) (2.28.1)\n",
      "Requirement already satisfied: ipywidgets>=7.5.1 in c:\\users\\kiit\\anaconda3\\lib\\site-packages (from pandas-profiling==2.7.1) (7.6.5)\n",
      "Requirement already satisfied: tqdm>=4.43.0 in c:\\users\\kiit\\anaconda3\\lib\\site-packages (from pandas-profiling==2.7.1) (4.64.1)\n",
      "Requirement already satisfied: pandas!=1.0.0,!=1.0.1,!=1.0.2,>=0.25.3 in c:\\users\\kiit\\anaconda3\\lib\\site-packages (from pandas-profiling==2.7.1) (1.4.4)\n",
      "Requirement already satisfied: tangled-up-in-unicode>=0.0.4 in c:\\users\\kiit\\anaconda3\\lib\\site-packages (from pandas-profiling==2.7.1) (0.2.0)\n",
      "Requirement already satisfied: missingno>=0.4.2 in c:\\users\\kiit\\anaconda3\\lib\\site-packages (from pandas-profiling==2.7.1) (0.5.1)\n",
      "Requirement already satisfied: jinja2>=2.11.1 in c:\\users\\kiit\\anaconda3\\lib\\site-packages (from pandas-profiling==2.7.1) (3.0.3)\n",
      "Requirement already satisfied: attrs>=19.3.0 in c:\\users\\kiit\\anaconda3\\lib\\site-packages (from visions[type_image_path]==0.4.1->pandas-profiling==2.7.1) (21.4.0)\n",
      "Requirement already satisfied: networkx>=2.4 in c:\\users\\kiit\\anaconda3\\lib\\site-packages (from visions[type_image_path]==0.4.1->pandas-profiling==2.7.1) (2.8.4)\n",
      "Requirement already satisfied: Pillow in c:\\users\\kiit\\anaconda3\\lib\\site-packages (from visions[type_image_path]==0.4.1->pandas-profiling==2.7.1) (9.2.0)\n",
      "Requirement already satisfied: imagehash in c:\\users\\kiit\\anaconda3\\lib\\site-packages (from visions[type_image_path]==0.4.1->pandas-profiling==2.7.1) (4.3.1)\n",
      "Requirement already satisfied: PyYAML>=3.13 in c:\\users\\kiit\\anaconda3\\lib\\site-packages (from astropy>=4.0->pandas-profiling==2.7.1) (6.0)\n",
      "Requirement already satisfied: packaging>=19.0 in c:\\users\\kiit\\anaconda3\\lib\\site-packages (from astropy>=4.0->pandas-profiling==2.7.1) (21.3)\n",
      "Requirement already satisfied: pyerfa>=2.0 in c:\\users\\kiit\\anaconda3\\lib\\site-packages (from astropy>=4.0->pandas-profiling==2.7.1) (2.0.0)\n",
      "Requirement already satisfied: jupyterlab-widgets>=1.0.0 in c:\\users\\kiit\\anaconda3\\lib\\site-packages (from ipywidgets>=7.5.1->pandas-profiling==2.7.1) (1.0.0)\n",
      "Requirement already satisfied: traitlets>=4.3.1 in c:\\users\\kiit\\anaconda3\\lib\\site-packages (from ipywidgets>=7.5.1->pandas-profiling==2.7.1) (5.1.1)\n",
      "Requirement already satisfied: ipython>=4.0.0 in c:\\users\\kiit\\anaconda3\\lib\\site-packages (from ipywidgets>=7.5.1->pandas-profiling==2.7.1) (7.31.1)\n",
      "Requirement already satisfied: ipykernel>=4.5.1 in c:\\users\\kiit\\anaconda3\\lib\\site-packages (from ipywidgets>=7.5.1->pandas-profiling==2.7.1) (6.15.2)\n",
      "Requirement already satisfied: widgetsnbextension~=3.5.0 in c:\\users\\kiit\\anaconda3\\lib\\site-packages (from ipywidgets>=7.5.1->pandas-profiling==2.7.1) (3.5.2)\n",
      "Requirement already satisfied: ipython-genutils~=0.2.0 in c:\\users\\kiit\\anaconda3\\lib\\site-packages (from ipywidgets>=7.5.1->pandas-profiling==2.7.1) (0.2.0)\n",
      "Requirement already satisfied: nbformat>=4.2.0 in c:\\users\\kiit\\anaconda3\\lib\\site-packages (from ipywidgets>=7.5.1->pandas-profiling==2.7.1) (5.5.0)\n",
      "Requirement already satisfied: MarkupSafe>=2.0 in c:\\users\\kiit\\anaconda3\\lib\\site-packages (from jinja2>=2.11.1->pandas-profiling==2.7.1) (2.0.1)\n",
      "Requirement already satisfied: cycler>=0.10 in c:\\users\\kiit\\anaconda3\\lib\\site-packages (from matplotlib>=3.2.0->pandas-profiling==2.7.1) (0.11.0)\n",
      "Requirement already satisfied: python-dateutil>=2.7 in c:\\users\\kiit\\anaconda3\\lib\\site-packages (from matplotlib>=3.2.0->pandas-profiling==2.7.1) (2.8.2)\n",
      "Requirement already satisfied: pyparsing>=2.2.1 in c:\\users\\kiit\\anaconda3\\lib\\site-packages (from matplotlib>=3.2.0->pandas-profiling==2.7.1) (3.0.9)\n",
      "Requirement already satisfied: kiwisolver>=1.0.1 in c:\\users\\kiit\\anaconda3\\lib\\site-packages (from matplotlib>=3.2.0->pandas-profiling==2.7.1) (1.4.2)\n",
      "Requirement already satisfied: fonttools>=4.22.0 in c:\\users\\kiit\\anaconda3\\lib\\site-packages (from matplotlib>=3.2.0->pandas-profiling==2.7.1) (4.25.0)\n",
      "Requirement already satisfied: seaborn in c:\\users\\kiit\\anaconda3\\lib\\site-packages (from missingno>=0.4.2->pandas-profiling==2.7.1) (0.12.2)\n",
      "Requirement already satisfied: pytz>=2020.1 in c:\\users\\kiit\\anaconda3\\lib\\site-packages (from pandas!=1.0.0,!=1.0.1,!=1.0.2,>=0.25.3->pandas-profiling==2.7.1) (2022.1)\n",
      "Requirement already satisfied: urllib3<1.27,>=1.21.1 in c:\\users\\kiit\\anaconda3\\lib\\site-packages (from requests>=2.23.0->pandas-profiling==2.7.1) (1.26.11)\n",
      "Requirement already satisfied: idna<4,>=2.5 in c:\\users\\kiit\\anaconda3\\lib\\site-packages (from requests>=2.23.0->pandas-profiling==2.7.1) (2.10)\n",
      "Requirement already satisfied: certifi>=2017.4.17 in c:\\users\\kiit\\anaconda3\\lib\\site-packages (from requests>=2.23.0->pandas-profiling==2.7.1) (2022.9.14)\n",
      "Requirement already satisfied: charset-normalizer<3,>=2 in c:\\users\\kiit\\anaconda3\\lib\\site-packages (from requests>=2.23.0->pandas-profiling==2.7.1) (2.0.4)\n",
      "Requirement already satisfied: colorama in c:\\users\\kiit\\anaconda3\\lib\\site-packages (from tqdm>=4.43.0->pandas-profiling==2.7.1) (0.4.5)\n",
      "Requirement already satisfied: psutil in c:\\users\\kiit\\anaconda3\\lib\\site-packages (from ipykernel>=4.5.1->ipywidgets>=7.5.1->pandas-profiling==2.7.1) (5.9.0)\n",
      "Requirement already satisfied: matplotlib-inline>=0.1 in c:\\users\\kiit\\anaconda3\\lib\\site-packages (from ipykernel>=4.5.1->ipywidgets>=7.5.1->pandas-profiling==2.7.1) (0.1.6)\n",
      "Requirement already satisfied: nest-asyncio in c:\\users\\kiit\\anaconda3\\lib\\site-packages (from ipykernel>=4.5.1->ipywidgets>=7.5.1->pandas-profiling==2.7.1) (1.5.5)\n",
      "Requirement already satisfied: pyzmq>=17 in c:\\users\\kiit\\anaconda3\\lib\\site-packages (from ipykernel>=4.5.1->ipywidgets>=7.5.1->pandas-profiling==2.7.1) (23.2.0)\n",
      "Requirement already satisfied: tornado>=6.1 in c:\\users\\kiit\\anaconda3\\lib\\site-packages (from ipykernel>=4.5.1->ipywidgets>=7.5.1->pandas-profiling==2.7.1) (6.1)\n",
      "Requirement already satisfied: jupyter-client>=6.1.12 in c:\\users\\kiit\\anaconda3\\lib\\site-packages (from ipykernel>=4.5.1->ipywidgets>=7.5.1->pandas-profiling==2.7.1) (7.3.4)\n",
      "Requirement already satisfied: debugpy>=1.0 in c:\\users\\kiit\\anaconda3\\lib\\site-packages (from ipykernel>=4.5.1->ipywidgets>=7.5.1->pandas-profiling==2.7.1) (1.5.1)\n",
      "Requirement already satisfied: pygments in c:\\users\\kiit\\anaconda3\\lib\\site-packages (from ipython>=4.0.0->ipywidgets>=7.5.1->pandas-profiling==2.7.1) (2.11.2)\n",
      "Requirement already satisfied: backcall in c:\\users\\kiit\\anaconda3\\lib\\site-packages (from ipython>=4.0.0->ipywidgets>=7.5.1->pandas-profiling==2.7.1) (0.2.0)\n",
      "Requirement already satisfied: setuptools>=18.5 in c:\\users\\kiit\\anaconda3\\lib\\site-packages (from ipython>=4.0.0->ipywidgets>=7.5.1->pandas-profiling==2.7.1) (63.4.1)\n",
      "Requirement already satisfied: pickleshare in c:\\users\\kiit\\anaconda3\\lib\\site-packages (from ipython>=4.0.0->ipywidgets>=7.5.1->pandas-profiling==2.7.1) (0.7.5)\n",
      "Requirement already satisfied: prompt-toolkit!=3.0.0,!=3.0.1,<3.1.0,>=2.0.0 in c:\\users\\kiit\\anaconda3\\lib\\site-packages (from ipython>=4.0.0->ipywidgets>=7.5.1->pandas-profiling==2.7.1) (3.0.20)\n",
      "Requirement already satisfied: jedi>=0.16 in c:\\users\\kiit\\anaconda3\\lib\\site-packages (from ipython>=4.0.0->ipywidgets>=7.5.1->pandas-profiling==2.7.1) (0.18.1)\n",
      "Requirement already satisfied: decorator in c:\\users\\kiit\\anaconda3\\lib\\site-packages (from ipython>=4.0.0->ipywidgets>=7.5.1->pandas-profiling==2.7.1) (5.1.1)\n",
      "Requirement already satisfied: fastjsonschema in c:\\users\\kiit\\anaconda3\\lib\\site-packages (from nbformat>=4.2.0->ipywidgets>=7.5.1->pandas-profiling==2.7.1) (2.16.2)\n",
      "Requirement already satisfied: jupyter_core in c:\\users\\kiit\\anaconda3\\lib\\site-packages (from nbformat>=4.2.0->ipywidgets>=7.5.1->pandas-profiling==2.7.1) (4.11.1)\n",
      "Requirement already satisfied: jsonschema>=2.6 in c:\\users\\kiit\\anaconda3\\lib\\site-packages (from nbformat>=4.2.0->ipywidgets>=7.5.1->pandas-profiling==2.7.1) (4.16.0)\n",
      "Requirement already satisfied: six>=1.5 in c:\\users\\kiit\\anaconda3\\lib\\site-packages (from python-dateutil>=2.7->matplotlib>=3.2.0->pandas-profiling==2.7.1) (1.16.0)\n",
      "Requirement already satisfied: notebook>=4.4.1 in c:\\users\\kiit\\anaconda3\\lib\\site-packages (from widgetsnbextension~=3.5.0->ipywidgets>=7.5.1->pandas-profiling==2.7.1) (6.4.12)\n",
      "Requirement already satisfied: PyWavelets in c:\\users\\kiit\\anaconda3\\lib\\site-packages (from imagehash->visions[type_image_path]==0.4.1->pandas-profiling==2.7.1) (1.3.0)\n",
      "Requirement already satisfied: parso<0.9.0,>=0.8.0 in c:\\users\\kiit\\anaconda3\\lib\\site-packages (from jedi>=0.16->ipython>=4.0.0->ipywidgets>=7.5.1->pandas-profiling==2.7.1) (0.8.3)\n",
      "Requirement already satisfied: pyrsistent!=0.17.0,!=0.17.1,!=0.17.2,>=0.14.0 in c:\\users\\kiit\\anaconda3\\lib\\site-packages (from jsonschema>=2.6->nbformat>=4.2.0->ipywidgets>=7.5.1->pandas-profiling==2.7.1) (0.18.0)\n",
      "Requirement already satisfied: entrypoints in c:\\users\\kiit\\anaconda3\\lib\\site-packages (from jupyter-client>=6.1.12->ipykernel>=4.5.1->ipywidgets>=7.5.1->pandas-profiling==2.7.1) (0.4)\n",
      "Requirement already satisfied: pywin32>=1.0 in c:\\users\\kiit\\anaconda3\\lib\\site-packages (from jupyter_core->nbformat>=4.2.0->ipywidgets>=7.5.1->pandas-profiling==2.7.1) (302)\n",
      "Requirement already satisfied: argon2-cffi in c:\\users\\kiit\\anaconda3\\lib\\site-packages (from notebook>=4.4.1->widgetsnbextension~=3.5.0->ipywidgets>=7.5.1->pandas-profiling==2.7.1) (21.3.0)\n",
      "Requirement already satisfied: Send2Trash>=1.8.0 in c:\\users\\kiit\\anaconda3\\lib\\site-packages (from notebook>=4.4.1->widgetsnbextension~=3.5.0->ipywidgets>=7.5.1->pandas-profiling==2.7.1) (1.8.0)\n",
      "Requirement already satisfied: terminado>=0.8.3 in c:\\users\\kiit\\anaconda3\\lib\\site-packages (from notebook>=4.4.1->widgetsnbextension~=3.5.0->ipywidgets>=7.5.1->pandas-profiling==2.7.1) (0.13.1)\n",
      "Requirement already satisfied: prometheus-client in c:\\users\\kiit\\anaconda3\\lib\\site-packages (from notebook>=4.4.1->widgetsnbextension~=3.5.0->ipywidgets>=7.5.1->pandas-profiling==2.7.1) (0.14.1)\n",
      "Requirement already satisfied: nbconvert>=5 in c:\\users\\kiit\\anaconda3\\lib\\site-packages (from notebook>=4.4.1->widgetsnbextension~=3.5.0->ipywidgets>=7.5.1->pandas-profiling==2.7.1) (7.2.7)\n",
      "Requirement already satisfied: wcwidth in c:\\users\\kiit\\anaconda3\\lib\\site-packages (from prompt-toolkit!=3.0.0,!=3.0.1,<3.1.0,>=2.0.0->ipython>=4.0.0->ipywidgets>=7.5.1->pandas-profiling==2.7.1) (0.2.5)\n",
      "Requirement already satisfied: pandocfilters>=1.4.1 in c:\\users\\kiit\\anaconda3\\lib\\site-packages (from nbconvert>=5->notebook>=4.4.1->widgetsnbextension~=3.5.0->ipywidgets>=7.5.1->pandas-profiling==2.7.1) (1.5.0)\n",
      "Requirement already satisfied: jupyterlab-pygments in c:\\users\\kiit\\anaconda3\\lib\\site-packages (from nbconvert>=5->notebook>=4.4.1->widgetsnbextension~=3.5.0->ipywidgets>=7.5.1->pandas-profiling==2.7.1) (0.1.2)\n",
      "Requirement already satisfied: nbclient>=0.5.0 in c:\\users\\kiit\\anaconda3\\lib\\site-packages (from nbconvert>=5->notebook>=4.4.1->widgetsnbextension~=3.5.0->ipywidgets>=7.5.1->pandas-profiling==2.7.1) (0.5.13)\n",
      "Requirement already satisfied: tinycss2 in c:\\users\\kiit\\anaconda3\\lib\\site-packages (from nbconvert>=5->notebook>=4.4.1->widgetsnbextension~=3.5.0->ipywidgets>=7.5.1->pandas-profiling==2.7.1) (1.2.1)\n",
      "Requirement already satisfied: beautifulsoup4 in c:\\users\\kiit\\anaconda3\\lib\\site-packages (from nbconvert>=5->notebook>=4.4.1->widgetsnbextension~=3.5.0->ipywidgets>=7.5.1->pandas-profiling==2.7.1) (4.11.1)\n",
      "Requirement already satisfied: importlib-metadata>=3.6 in c:\\users\\kiit\\anaconda3\\lib\\site-packages (from nbconvert>=5->notebook>=4.4.1->widgetsnbextension~=3.5.0->ipywidgets>=7.5.1->pandas-profiling==2.7.1) (4.11.3)\n",
      "Requirement already satisfied: mistune<3,>=2.0.3 in c:\\users\\kiit\\anaconda3\\lib\\site-packages (from nbconvert>=5->notebook>=4.4.1->widgetsnbextension~=3.5.0->ipywidgets>=7.5.1->pandas-profiling==2.7.1) (2.0.4)\n",
      "Requirement already satisfied: bleach in c:\\users\\kiit\\anaconda3\\lib\\site-packages (from nbconvert>=5->notebook>=4.4.1->widgetsnbextension~=3.5.0->ipywidgets>=7.5.1->pandas-profiling==2.7.1) (4.1.0)\n",
      "Requirement already satisfied: defusedxml in c:\\users\\kiit\\anaconda3\\lib\\site-packages (from nbconvert>=5->notebook>=4.4.1->widgetsnbextension~=3.5.0->ipywidgets>=7.5.1->pandas-profiling==2.7.1) (0.7.1)\n",
      "Requirement already satisfied: pywinpty>=1.1.0 in c:\\users\\kiit\\anaconda3\\lib\\site-packages (from terminado>=0.8.3->notebook>=4.4.1->widgetsnbextension~=3.5.0->ipywidgets>=7.5.1->pandas-profiling==2.7.1) (2.0.2)\n",
      "Requirement already satisfied: argon2-cffi-bindings in c:\\users\\kiit\\anaconda3\\lib\\site-packages (from argon2-cffi->notebook>=4.4.1->widgetsnbextension~=3.5.0->ipywidgets>=7.5.1->pandas-profiling==2.7.1) (21.2.0)\n",
      "Requirement already satisfied: zipp>=0.5 in c:\\users\\kiit\\anaconda3\\lib\\site-packages (from importlib-metadata>=3.6->nbconvert>=5->notebook>=4.4.1->widgetsnbextension~=3.5.0->ipywidgets>=7.5.1->pandas-profiling==2.7.1) (3.8.0)\n",
      "Requirement already satisfied: cffi>=1.0.1 in c:\\users\\kiit\\anaconda3\\lib\\site-packages (from argon2-cffi-bindings->argon2-cffi->notebook>=4.4.1->widgetsnbextension~=3.5.0->ipywidgets>=7.5.1->pandas-profiling==2.7.1) (1.15.1)\n",
      "Requirement already satisfied: soupsieve>1.2 in c:\\users\\kiit\\anaconda3\\lib\\site-packages (from beautifulsoup4->nbconvert>=5->notebook>=4.4.1->widgetsnbextension~=3.5.0->ipywidgets>=7.5.1->pandas-profiling==2.7.1) (2.3.1)\n",
      "Requirement already satisfied: webencodings in c:\\users\\kiit\\anaconda3\\lib\\site-packages (from bleach->nbconvert>=5->notebook>=4.4.1->widgetsnbextension~=3.5.0->ipywidgets>=7.5.1->pandas-profiling==2.7.1) (0.5.1)\n",
      "Requirement already satisfied: pycparser in c:\\users\\kiit\\anaconda3\\lib\\site-packages (from cffi>=1.0.1->argon2-cffi-bindings->argon2-cffi->notebook>=4.4.1->widgetsnbextension~=3.5.0->ipywidgets>=7.5.1->pandas-profiling==2.7.1) (2.21)\n"
     ]
    }
   ],
   "source": [
    "!pip install pandas-profiling==2.7.1"
   ]
  },
  {
   "cell_type": "code",
   "execution_count": 3,
   "id": "11ef9f37",
   "metadata": {},
   "outputs": [],
   "source": [
    "depression_dataset = pd.read_csv('data.csv')"
   ]
  },
  {
   "cell_type": "code",
   "execution_count": 4,
   "id": "d689f71f",
   "metadata": {},
   "outputs": [],
   "source": [
    "depression_dataset=depression_dataset.dropna()"
   ]
  },
  {
   "cell_type": "code",
   "execution_count": 5,
   "id": "8aa4399d",
   "metadata": {},
   "outputs": [],
   "source": [
    "depression_dataset['inter_dom'] = np.where(depression_dataset['inter_dom'] =='Dom', 0, depression_dataset['inter_dom'])\n",
    "depression_dataset['inter_dom'] = np.where(depression_dataset['inter_dom'] =='Inter', 1, depression_dataset['inter_dom'])\n",
    "\n",
    "depression_dataset['Region'] = np.where(depression_dataset['Region'] =='SA', 0, depression_dataset['Region'])\n",
    "depression_dataset['Region'] = np.where(depression_dataset['Region'] =='EA', 1, depression_dataset['Region'])\n",
    "depression_dataset['Region'] = np.where(depression_dataset['Region'] =='SEA', 2, depression_dataset['Region'])\n",
    "depression_dataset['Region'] = np.where(depression_dataset['Region'] =='JAP', 3, depression_dataset['Region'])\n",
    "depression_dataset['Region'] = np.where(depression_dataset['Region'] =='Others', 4, depression_dataset['Region'])\n",
    "\n",
    "depression_dataset['Gender'] = np.where(depression_dataset['Gender'] =='Female', 0, depression_dataset['Gender'])\n",
    "depression_dataset['Gender'] = np.where(depression_dataset['Gender'] =='Male', 1, depression_dataset['Gender'])\n",
    "\n",
    "depression_dataset['Academic'] = np.where(depression_dataset['Academic'] =='Under', 0, depression_dataset['Academic'])\n",
    "depression_dataset['Academic'] = np.where(depression_dataset['Academic'] =='Grad', 1, depression_dataset['Academic'])\n",
    "\n",
    "depression_dataset['Stay_Cate'] = np.where(depression_dataset['Stay_Cate'] =='Short', 0, depression_dataset['Stay_Cate'])\n",
    "depression_dataset['Stay_Cate'] = np.where(depression_dataset['Stay_Cate'] =='Medium', 1, depression_dataset['Stay_Cate'])\n",
    "depression_dataset['Stay_Cate'] = np.where(depression_dataset['Stay_Cate'] =='Long', 2, depression_dataset['Stay_Cate'])\n",
    "\n",
    "depression_dataset['DepType'] = np.where(depression_dataset['DepType'] =='No', 0, depression_dataset['DepType'])\n",
    "depression_dataset['DepType'] = np.where(depression_dataset['DepType'] =='Major', 1, depression_dataset['DepType'])\n",
    "depression_dataset['DepType'] = np.where(depression_dataset['DepType'] =='Other', 2, depression_dataset['DepType'])\n",
    "\n",
    "depression_dataset['DepSev'] = np.where(depression_dataset['DepSev'] =='Min', 0, depression_dataset['DepSev'])\n",
    "depression_dataset['DepSev'] = np.where(depression_dataset['DepSev'] =='Mild', 1, depression_dataset['DepSev'])\n",
    "depression_dataset['DepSev'] = np.where(depression_dataset['DepSev'] =='Mod', 2, depression_dataset['DepSev'])\n",
    "depression_dataset['DepSev'] = np.where(depression_dataset['DepSev'] =='Sev', 3, depression_dataset['DepSev'])\n",
    "depression_dataset['DepSev'] = np.where(depression_dataset['DepSev'] =='ModSev', 4, depression_dataset['DepSev'])"
   ]
  },
  {
   "cell_type": "code",
   "execution_count": 6,
   "id": "d11dd036",
   "metadata": {},
   "outputs": [],
   "source": [
    "depression_dataset['Japanese_cate'] = np.where(depression_dataset['Japanese_cate'] =='Low', 0, depression_dataset['Japanese_cate'])\n",
    "depression_dataset['Japanese_cate'] = np.where(depression_dataset['Japanese_cate'] =='Average', 1, depression_dataset['Japanese_cate'])\n",
    "depression_dataset['Japanese_cate'] = np.where(depression_dataset['Japanese_cate'] =='High', 2, depression_dataset['Japanese_cate'])\n",
    "\n",
    "depression_dataset['English_cate'] = np.where(depression_dataset['English_cate'] =='Low', 0, depression_dataset['English_cate'])\n",
    "depression_dataset['English_cate'] = np.where(depression_dataset['English_cate'] =='Average', 1, depression_dataset['English_cate'])\n",
    "depression_dataset['English_cate'] = np.where(depression_dataset['English_cate'] =='High', 2, depression_dataset['English_cate'])"
   ]
  },
  {
   "cell_type": "code",
   "execution_count": 7,
   "id": "9587932a",
   "metadata": {},
   "outputs": [],
   "source": [
    "depression_dataset['Intimate'] = np.where(depression_dataset['Intimate'] =='Yes', 0, depression_dataset['Intimate'])\n",
    "depression_dataset['Intimate'] = np.where(depression_dataset['Intimate'] =='No', 1, depression_dataset['Intimate'])\n",
    "\n",
    "depression_dataset['Religion'] = np.where(depression_dataset['Religion'] =='Yes', 0, depression_dataset['Religion'])\n",
    "depression_dataset['Religion'] = np.where(depression_dataset['Religion'] =='No', 1, depression_dataset['Religion'])\n",
    "\n",
    "depression_dataset['Suicide'] = np.where(depression_dataset['Suicide'] =='Yes', 0, depression_dataset['Suicide'])\n",
    "depression_dataset['Suicide'] = np.where(depression_dataset['Suicide'] =='No', 1, depression_dataset['Suicide'])\n",
    "\n",
    "depression_dataset['Dep'] = np.where(depression_dataset['Dep'] =='Yes', 0, depression_dataset['Dep'])\n",
    "depression_dataset['Dep'] = np.where(depression_dataset['Dep'] =='No', 1, depression_dataset['Dep'])\n",
    "\n",
    "depression_dataset['Partner_bi'] = np.where(depression_dataset['Partner_bi'] =='Yes', 0, depression_dataset['Partner_bi'])\n",
    "depression_dataset['Partner_bi'] = np.where(depression_dataset['Partner_bi'] =='No', 1, depression_dataset['Partner_bi'])\n",
    "\n",
    "depression_dataset['Friends_bi'] = np.where(depression_dataset['Friends_bi'] =='Yes', 0, depression_dataset['Friends_bi'])\n",
    "depression_dataset['Friends_bi'] = np.where(depression_dataset['Friends_bi'] =='No', 1, depression_dataset['Friends_bi'])\n",
    "\n",
    "depression_dataset['Parents_bi'] = np.where(depression_dataset['Parents_bi'] =='Yes', 0, depression_dataset['Parents_bi'])\n",
    "depression_dataset['Parents_bi'] = np.where(depression_dataset['Parents_bi'] =='No', 1, depression_dataset['Parents_bi'])\n",
    "\n",
    "depression_dataset['Relative_bi'] = np.where(depression_dataset['Relative_bi'] =='Yes', 0, depression_dataset['Relative_bi'])\n",
    "depression_dataset['Relative_bi'] = np.where(depression_dataset['Relative_bi'] =='No', 1, depression_dataset['Relative_bi'])\n",
    "\n",
    "depression_dataset['Professional_bi'] = np.where(depression_dataset['Professional_bi'] =='Yes', 0, depression_dataset['Professional_bi'])\n",
    "depression_dataset['Professional_bi'] = np.where(depression_dataset['Professional_bi'] =='No', 1, depression_dataset['Professional_bi'])\n",
    "\n",
    "depression_dataset['Phone_bi'] = np.where(depression_dataset['Phone_bi'] =='Yes', 0, depression_dataset['Phone_bi'])\n",
    "depression_dataset['Phone_bi'] = np.where(depression_dataset['Phone_bi'] =='No', 1, depression_dataset['Phone_bi'])\n",
    "\n",
    "depression_dataset['Doctor_bi'] = np.where(depression_dataset['Doctor_bi'] =='Yes', 0, depression_dataset['Doctor_bi'])\n",
    "depression_dataset['Doctor_bi'] = np.where(depression_dataset['Doctor_bi'] =='No', 1, depression_dataset['Doctor_bi'])\n",
    "\n",
    "depression_dataset['religion_bi'] = np.where(depression_dataset['religion_bi'] =='Yes', 0, depression_dataset['religion_bi'])\n",
    "depression_dataset['religion_bi'] = np.where(depression_dataset['religion_bi'] =='No', 1, depression_dataset['religion_bi'])\n",
    "\n",
    "depression_dataset['Alone_bi'] = np.where(depression_dataset['Alone_bi'] =='Yes', 0, depression_dataset['Alone_bi'])\n",
    "depression_dataset['Alone_bi'] = np.where(depression_dataset['Alone_bi'] =='No', 1, depression_dataset['Alone_bi'])\n",
    "\n",
    "depression_dataset['Others_bi'] = np.where(depression_dataset['Others_bi'] =='Yes', 0, depression_dataset['Others_bi'])\n",
    "depression_dataset['Others_bi'] = np.where(depression_dataset['Others_bi'] =='No', 1, depression_dataset['Others_bi'])\n",
    "\n",
    "depression_dataset['Internet_bi'] = np.where(depression_dataset['Internet_bi'] =='Yes', 0, depression_dataset['Internet_bi'])\n",
    "depression_dataset['Internet_bi'] = np.where(depression_dataset['Internet_bi'] =='No', 1, depression_dataset['Internet_bi'])\n"
   ]
  },
  {
   "cell_type": "code",
   "execution_count": 8,
   "id": "85f447b2",
   "metadata": {},
   "outputs": [],
   "source": [
    "depression_dataset = depression_dataset.drop(['Suicide','DepType','ToDep','DepSev'], axis = 1)"
   ]
  },
  {
   "cell_type": "code",
   "execution_count": 9,
   "id": "435bb7fa",
   "metadata": {},
   "outputs": [],
   "source": [
    "col_list = depression_dataset.columns"
   ]
  },
  {
   "cell_type": "code",
   "execution_count": 10,
   "id": "4d7963b7",
   "metadata": {},
   "outputs": [
    {
     "name": "stdout",
     "output_type": "stream",
     "text": [
      "inter_dom           object\n",
      "Region              object\n",
      "Gender              object\n",
      "Academic            object\n",
      "Age                  int64\n",
      "Age_cate             int64\n",
      "Stay                 int64\n",
      "Stay_Cate           object\n",
      "Japanese             int64\n",
      "Japanese_cate       object\n",
      "English              int64\n",
      "English_cate        object\n",
      "Intimate            object\n",
      "Religion            object\n",
      "Dep                 object\n",
      "ToSC                 int64\n",
      "APD                  int64\n",
      "AHome                int64\n",
      "APH                  int64\n",
      "Afear                int64\n",
      "ACS                  int64\n",
      "AGuilt               int64\n",
      "AMiscell             int64\n",
      "ToAS                 int64\n",
      "Partner              int64\n",
      "Friends              int64\n",
      "Parents              int64\n",
      "Relative             int64\n",
      "Profess              int64\n",
      " Phone               int64\n",
      "Doctor               int64\n",
      "Reli                 int64\n",
      "Alone                int64\n",
      "Others               int64\n",
      "Internet           float64\n",
      "Partner_bi          object\n",
      "Friends_bi          object\n",
      "Parents_bi          object\n",
      "Relative_bi         object\n",
      "Professional_bi     object\n",
      "Phone_bi            object\n",
      "Doctor_bi           object\n",
      "religion_bi         object\n",
      "Alone_bi            object\n",
      "Others_bi           object\n",
      "Internet_bi         object\n",
      "dtype: object\n"
     ]
    }
   ],
   "source": [
    "dataTypeSeries = depression_dataset.dtypes\n",
    "print(dataTypeSeries)"
   ]
  },
  {
   "cell_type": "code",
   "execution_count": 11,
   "id": "96feaee6",
   "metadata": {},
   "outputs": [],
   "source": [
    "X = depression_dataset.drop(['Dep'], axis=1)\n",
    "y = depression_dataset['Dep']"
   ]
  },
  {
   "cell_type": "code",
   "execution_count": 12,
   "id": "1137e65b",
   "metadata": {},
   "outputs": [],
   "source": [
    "X_train, X_test, y_train, y_test = train_test_split(X, y, test_size=0.3 , random_state=1)"
   ]
  },
  {
   "cell_type": "code",
   "execution_count": 13,
   "id": "12ebfa25",
   "metadata": {},
   "outputs": [
    {
     "name": "stdout",
     "output_type": "stream",
     "text": [
      "    inter_dom Region Gender Academic  Age  Age_cate  Stay Stay_Cate  Japanese  \\\n",
      "120         1      1      1        0   23         4     2         1         2   \n",
      "84          1      2      0        0   21         3     4         2         3   \n",
      "127         1      2      1        0   27         5     6         2         3   \n",
      "172         1      2      1        0   21         3     3         1         3   \n",
      "247         0      3      0        0   22         3     4         2         5   \n",
      "..        ...    ...    ...      ...  ...       ...   ...       ...       ...   \n",
      "162         1      2      0        0   19         2     1         0         2   \n",
      "97          1      0      1        0   20         2     1         0         2   \n",
      "165         1      0      0        0   21         3     1         0         2   \n",
      "261         0      3      0        0   21         3     3         1         5   \n",
      "62          1      2      0        0   21         3     3         1         1   \n",
      "\n",
      "    Japanese_cate  ...  Friends_bi Parents_bi Relative_bi Professional_bi  \\\n",
      "120             0  ...           0          0           1               1   \n",
      "84              1  ...           1          0           1               1   \n",
      "127             1  ...           0          1           1               1   \n",
      "172             1  ...           1          1           1               1   \n",
      "247             2  ...           0          0           1               1   \n",
      "..            ...  ...         ...        ...         ...             ...   \n",
      "162             0  ...           1          1           1               1   \n",
      "97              0  ...           0          0           0               0   \n",
      "165             0  ...           1          1           1               0   \n",
      "261             2  ...           1          1           1               1   \n",
      "62              0  ...           0          0           1               1   \n",
      "\n",
      "     Phone_bi  Doctor_bi  religion_bi  Alone_bi  Others_bi  Internet_bi  \n",
      "120         1          1            1         1          1            1  \n",
      "84          1          1            1         1          1            1  \n",
      "127         1          1            1         1          1            1  \n",
      "172         1          1            1         0          1            0  \n",
      "247         1          1            1         1          1            1  \n",
      "..        ...        ...          ...       ...        ...          ...  \n",
      "162         1          1            1         1          1            1  \n",
      "97          0          0            0         0          0            0  \n",
      "165         1          0            1         1          1            1  \n",
      "261         1          1            1         1          1            1  \n",
      "62          1          1            1         1          1            1  \n",
      "\n",
      "[169 rows x 45 columns]\n"
     ]
    }
   ],
   "source": [
    "print(X_train)"
   ]
  },
  {
   "cell_type": "code",
   "execution_count": 14,
   "id": "76715e0e",
   "metadata": {},
   "outputs": [
    {
     "name": "stdout",
     "output_type": "stream",
     "text": [
      "120    0\n",
      "84     0\n",
      "127    0\n",
      "172    0\n",
      "247    1\n",
      "      ..\n",
      "162    1\n",
      "97     1\n",
      "165    1\n",
      "261    1\n",
      "62     0\n",
      "Name: Dep, Length: 169, dtype: object\n"
     ]
    }
   ],
   "source": [
    "print(y_train)"
   ]
  },
  {
   "cell_type": "code",
   "execution_count": 15,
   "id": "17d370ae",
   "metadata": {},
   "outputs": [],
   "source": [
    "y_train=y_train.astype('int')"
   ]
  },
  {
   "cell_type": "code",
   "execution_count": 16,
   "id": "4cb8299c",
   "metadata": {},
   "outputs": [],
   "source": [
    "param_grid = {\n",
    "   'max_depth': [7,8,9, 10, 11,12,13],\n",
    "   'max_features': [5, 6, 7, 8, 9],\n",
    "  'min_samples_leaf': [10, 15, 20, 25, 30],\n",
    "  'min_samples_split': [30, 45, 60, 75, 90],\n",
    "   'n_estimators': [71, 81, 91, 101],\n",
    "\n",
    "}\n",
    "\n",
    "rfCl = RandomForestClassifier()"
   ]
  },
  {
   "cell_type": "code",
   "execution_count": 17,
   "id": "67a60390",
   "metadata": {},
   "outputs": [],
   "source": [
    "param_grid = {\n",
    "    'max_depth': [7,8,9,10],\n",
    "    'max_features': [4, 5, 6, 7],\n",
    "    'min_samples_leaf': [5, 10, 15, 20],\n",
    "    'min_samples_split': [10, 20 , 30, 40, 50],\n",
    "    'n_estimators': [91, 101, 111],\n",
    "}\n",
    "\n",
    "rfCl = RandomForestClassifier()\n",
    "\n",
    "RFCl_model = GridSearchCV(estimator = rfCl, param_grid = param_grid, cv = 3)"
   ]
  },
  {
   "cell_type": "code",
   "execution_count": 18,
   "id": "132cfc9c",
   "metadata": {},
   "outputs": [
    {
     "data": {
      "text/plain": [
       "GridSearchCV(cv=3, estimator=RandomForestClassifier(),\n",
       "             param_grid={'max_depth': [7, 8, 9, 10],\n",
       "                         'max_features': [4, 5, 6, 7],\n",
       "                         'min_samples_leaf': [5, 10, 15, 20],\n",
       "                         'min_samples_split': [10, 20, 30, 40, 50],\n",
       "                         'n_estimators': [91, 101, 111]})"
      ]
     },
     "execution_count": 18,
     "metadata": {},
     "output_type": "execute_result"
    }
   ],
   "source": [
    "RFCl_model.fit(X_train, y_train)"
   ]
  },
  {
   "cell_type": "code",
   "execution_count": 19,
   "id": "834aaf6f",
   "metadata": {},
   "outputs": [],
   "source": [
    "RFCl_model.best_params_\n",
    "best_grid_rfc = RFCl_model.best_estimator_"
   ]
  },
  {
   "cell_type": "code",
   "execution_count": 20,
   "id": "803a9895",
   "metadata": {},
   "outputs": [
    {
     "name": "stdout",
     "output_type": "stream",
     "text": [
      "RandomForestClassifier(max_depth=7, max_features=4, min_samples_leaf=5,\n",
      "                       min_samples_split=10, n_estimators=91)\n"
     ]
    }
   ],
   "source": [
    "print(best_grid_rfc)"
   ]
  },
  {
   "cell_type": "code",
   "execution_count": 21,
   "id": "69e4c11c",
   "metadata": {},
   "outputs": [
    {
     "data": {
      "text/plain": [
       "BaggingClassifier(base_estimator=RandomForestClassifier(max_depth=7,\n",
       "                                                        max_features=4,\n",
       "                                                        min_samples_leaf=5,\n",
       "                                                        min_samples_split=10,\n",
       "                                                        n_estimators=91),\n",
       "                  random_state=1)"
      ]
     },
     "execution_count": 21,
     "metadata": {},
     "output_type": "execute_result"
    }
   ],
   "source": [
    "Bagging_model=BaggingClassifier(base_estimator=best_grid_rfc,random_state=1)\n",
    "Bagging_model.fit(X_train, y_train)"
   ]
  },
  {
   "cell_type": "code",
   "execution_count": 22,
   "id": "8a3c7764",
   "metadata": {},
   "outputs": [],
   "source": [
    "y_test_Bagging_predict = Bagging_model.predict(X_test)"
   ]
  },
  {
   "cell_type": "code",
   "execution_count": 23,
   "id": "ea5c126f",
   "metadata": {},
   "outputs": [
    {
     "name": "stdout",
     "output_type": "stream",
     "text": [
      "[1 1 1 1 1 1 1 0 1 1 1 1 0 1 1 1 1 0 0 1 1 1 1 1 1 1 1 1 1 1 1 0 1 1 1 1 1\n",
      " 0 1 1 0 1 1 0 1 1 1 1 1 1 1 0 0 1 1 0 1 1 1 1 1 1 0 1 1 1 1 1 1 0 1 0 1]\n"
     ]
    }
   ],
   "source": [
    "print(y_test_Bagging_predict)"
   ]
  },
  {
   "cell_type": "code",
   "execution_count": 24,
   "id": "87254b39",
   "metadata": {},
   "outputs": [],
   "source": [
    "from sklearn.metrics import roc_curve\n",
    "from sklearn.metrics import roc_auc_score\n",
    "def Performance_metrix(y_test, pred):\n",
    "    TN, FP, FN, TP = confusion_matrix(y_test, pred).ravel()\n",
    "    Population = TN+FN+TP+FP\n",
    "    Accuracy   =(TP+TN) / Population\n",
    "    Precision  = TP / (TP+FP) \n",
    "    NPV= TN / (TN+FN)\n",
    "    Sensitivity= TP/(TP+FN)\n",
    "    Specificity= TN/(TN+FP)\n",
    "    print('Accuracy: ' , Accuracy, 'Sensitivity: ', Sensitivity, 'Specificity: ', Specificity,'\\n\\nPositive predictive value: ' , Precision, 'Negative predictive value: ',  NPV)"
   ]
  },
  {
   "cell_type": "code",
   "execution_count": 25,
   "id": "eac8e870",
   "metadata": {},
   "outputs": [],
   "source": [
    "y_test=y_test.astype('int')"
   ]
  },
  {
   "cell_type": "code",
   "execution_count": 26,
   "id": "ff1a57ae",
   "metadata": {},
   "outputs": [
    {
     "name": "stdout",
     "output_type": "stream",
     "text": [
      "Accuracy:  0.726027397260274 Sensitivity:  0.8823529411764706 Specificity:  0.36363636363636365 \n",
      "\n",
      "Positive predictive value:  0.7627118644067796 Negative predictive value:  0.5714285714285714\n"
     ]
    }
   ],
   "source": [
    "Performance_metrix(y_test,y_test_Bagging_predict)"
   ]
  },
  {
   "cell_type": "code",
   "execution_count": 27,
   "id": "a242c3ea",
   "metadata": {},
   "outputs": [
    {
     "name": "stdout",
     "output_type": "stream",
     "text": [
      "\n",
      "Auc:  0.7557932263814617\n"
     ]
    }
   ],
   "source": [
    "roc=roc_auc_score(y_test, Bagging_model.predict_proba(X_test)[:,1])\n",
    "print('\\nAuc: ', roc)"
   ]
  }
 ],
 "metadata": {
  "kernelspec": {
   "display_name": "Python 3 (ipykernel)",
   "language": "python",
   "name": "python3"
  },
  "language_info": {
   "codemirror_mode": {
    "name": "ipython",
    "version": 3
   },
   "file_extension": ".py",
   "mimetype": "text/x-python",
   "name": "python",
   "nbconvert_exporter": "python",
   "pygments_lexer": "ipython3",
   "version": "3.9.13"
  }
 },
 "nbformat": 4,
 "nbformat_minor": 5
}
